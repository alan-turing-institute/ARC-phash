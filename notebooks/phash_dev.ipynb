{
 "cells": [
  {
   "cell_type": "markdown",
   "metadata": {},
   "source": [
    "# Perceptual-Hashing\n",
    "\n",
    "\n",
    "Here we'll have a look at the perceptual hashing, as well as a little bit of testing/bug hunting on the already implemented image manipulation methods.\n",
    "\n",
    "NOTE: If running locally on `mps` can only load one model at a time."
   ]
  },
  {
   "cell_type": "code",
   "execution_count": null,
   "metadata": {},
   "outputs": [],
   "source": [
    "# load image of me\n",
    "from diffusers.utils import load_image\n",
    "\n",
    "from arc_phash.image_manipulation.utils import resize_and_crop\n",
    "\n",
    "me_img = load_image(\"../images/me_2.jpg\")\n",
    "resize_and_crop(me_img)"
   ]
  },
  {
   "cell_type": "code",
   "execution_count": null,
   "metadata": {},
   "outputs": [],
   "source": [
    "# load inpainter\n",
    "from pprint import pprint\n",
    "\n",
    "from arc_phash.image_manipulation.deepfake import img2img\n",
    "\n",
    "inpainter = img2img.Img2Img(device=\"mps\", resize_size=512)\n",
    "pprint(inpainter.pipe_kwargs)"
   ]
  },
  {
   "cell_type": "code",
   "execution_count": null,
   "metadata": {},
   "outputs": [],
   "source": [
    "import numpy as np\n",
    "\n",
    "strengths = np.linspace(0.1, 0.9, 5)\n",
    "\n",
    "for strength in strengths:\n",
    "    inpainter.generate_img2img(image=me_img, strength=strength)"
   ]
  },
  {
   "cell_type": "code",
   "execution_count": 7,
   "metadata": {},
   "outputs": [],
   "source": [
    "out_imgs = inpainter.get_results()"
   ]
  },
  {
   "cell_type": "markdown",
   "metadata": {},
   "source": [
    "## Perceptual Hashes\n",
    "\n",
    "Now it appears that the image generation methods work, lets start comapring some perceptual hashes of them."
   ]
  },
  {
   "cell_type": "code",
   "execution_count": 7,
   "metadata": {},
   "outputs": [],
   "source": [
    "import numpy as np\n",
    "import pdqhash\n",
    "\n",
    "hash_vec_orig, qual_o = pdqhash.compute(np.asarray(me_img))\n",
    "hash_vec_alt, qual_a = pdqhash.compute(np.asarray(out_img))"
   ]
  },
  {
   "cell_type": "code",
   "execution_count": null,
   "metadata": {},
   "outputs": [],
   "source": [
    "from scipy.spatial.distance import euclidean, hamming, sqeuclidean\n",
    "\n",
    "print(\"distances from original to original:\")\n",
    "print(f\"sqeuclidean: {sqeuclidean(hash_vec_orig, hash_vec_orig)}\")\n",
    "print(f\"euclidean: {euclidean(hash_vec_orig, hash_vec_orig)}\")\n",
    "print(f\"hamming: {hamming(hash_vec_orig, hash_vec_orig)}\")\n",
    "\n",
    "print(\"distances from original to inpainted:\")\n",
    "print(f\"sqeuclidean: {sqeuclidean(hash_vec_orig, hash_vec_alt)}\")\n",
    "print(f\"euclidean: {euclidean(hash_vec_orig, hash_vec_alt)}\")\n",
    "print(f\"hamming: {hamming(hash_vec_orig, hash_vec_alt)}\")"
   ]
  },
  {
   "cell_type": "code",
   "execution_count": 13,
   "metadata": {},
   "outputs": [],
   "source": [
    "import pdqhash\n",
    "\n",
    "\n",
    "def hash_dist(img_1, img_2):\n",
    "    \"\"\"compute hash distance based on pdq hash\"\"\"\n",
    "    hash_1, _ = pdqhash.compute(np.asarray(img_1))\n",
    "    hash_2, _ = pdqhash.compute(np.asarray(img_2))\n",
    "    return sqeuclidean(hash_1, hash_2)"
   ]
  },
  {
   "cell_type": "code",
   "execution_count": 20,
   "metadata": {},
   "outputs": [],
   "source": [
    "import matplotlib.pyplot as plt\n",
    "from scipy.spatial.distance import sqeuclidean\n",
    "\n",
    "\n",
    "def plotter(imgs: list):\n",
    "    \"\"\"plot images and distances\"\"\"\n",
    "    fig, ax = plt.subplots(1, len(imgs), figsize=(20, 15))\n",
    "    _ = [ax[idx].imshow(img) for idx, img in enumerate(imgs)]\n",
    "    _ = [\n",
    "        ax[idx].set_title(f\"{hash_dist(imgs[0], img)}\") for idx, img in enumerate(imgs)\n",
    "    ]\n",
    "    _ = [axe.axis(\"off\") for axe in ax]\n",
    "    fig.suptitle(\"Squared euqlidean distance between PHash of original and infill\")\n",
    "    plt.show()"
   ]
  },
  {
   "cell_type": "code",
   "execution_count": null,
   "metadata": {},
   "outputs": [],
   "source": [
    "images = []\n",
    "images.append(out_imgs[0][\"original\"])\n",
    "for out in out_imgs:\n",
    "    images.append(out[\"img2img\"])\n",
    "\n",
    "plotter(images)"
   ]
  },
  {
   "cell_type": "code",
   "execution_count": null,
   "metadata": {},
   "outputs": [],
   "source": [
    "out_imgs"
   ]
  },
  {
   "cell_type": "code",
   "execution_count": null,
   "metadata": {},
   "outputs": [],
   "source": []
  }
 ],
 "metadata": {
  "kernelspec": {
   "display_name": ".venv",
   "language": "python",
   "name": "python3"
  },
  "language_info": {
   "codemirror_mode": {
    "name": "ipython",
    "version": 3
   },
   "file_extension": ".py",
   "mimetype": "text/x-python",
   "name": "python",
   "nbconvert_exporter": "python",
   "pygments_lexer": "ipython3",
   "version": "3.11.4"
  }
 },
 "nbformat": 4,
 "nbformat_minor": 2
}
